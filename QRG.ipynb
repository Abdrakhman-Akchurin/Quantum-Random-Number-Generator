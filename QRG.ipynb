{
 "cells": [
  {
   "cell_type": "markdown",
   "metadata": {},
   "source": [
    "# Quantum Random Generator"
   ]
  },
  {
   "cell_type": "markdown",
   "metadata": {},
   "source": [
    "Quantum Random Number Generators (QRNGs) exploit the inherent randomness of quantum mechanics to produce truly random numbers. Unlike classical pseudo-random number generators (PRNGs), which rely on deterministic algorithms and initial \"seed\" values, QRNGs use the fundamental probabilistic nature of quantum states to generate unpredictably random numbers.\n",
    "\n",
    "The primary principle behind QRNGs lies in quantum superposition and quantum measurement."
   ]
  },
  {
   "cell_type": "markdown",
   "metadata": {},
   "source": [
    "A QRNG takes advantage of these properties to generate random bits. Here’s the step-by-step process:"
   ]
  },
  {
   "cell_type": "markdown",
   "metadata": {},
   "source": [
    "1. Initialize the Qubit in a known state (∣0⟩)\n",
    "2. Apply a Hadamard Gate to create superposition\n",
    "3. Measure the Qubit\n",
    "4. Repeat for multiple bits"
   ]
  },
  {
   "cell_type": "markdown",
   "metadata": {},
   "source": [
    "### Why Quantum Random Numbers Are \"Truly\" Random"
   ]
  },
  {
   "cell_type": "markdown",
   "metadata": {},
   "source": [
    "In classical computing, random numbers are typically generated using algorithms that are deterministic in nature. These pseudo-random number generators (PRNGs) produce numbers that appear random but are actually the result of deterministic processes and can be reproduced if the initial seed is known.\n",
    "\n",
    "In contrast, quantum random number generators derive randomness from the fundamental unpredictability of quantum mechanics, which is governed by nature. This is why QRNGs are considered \"truly\" random:\n",
    "\n",
    " - No Predictability: In a quantum measurement, the outcome is inherently unpredictable. Even with perfect knowledge of the system, you cannot predict whether the measurement will yield 0 or 1.\n",
    " - No Hidden Variables: Unlike classical randomness, where the apparent unpredictability is due to ignorance of underlying factors, quantum randomness is intrinsic and cannot be predicted by any hidden information."
   ]
  },
  {
   "cell_type": "markdown",
   "metadata": {},
   "source": [
    "### Practical Applications of QRNG"
   ]
  },
  {
   "cell_type": "markdown",
   "metadata": {},
   "source": [
    " - Cryptography: High-quality randomness is essential for generating secure cryptographic keys. QRNGs are increasingly used in systems where true randomness is critical to security.\n",
    " - Simulations: In scientific simulations, random numbers are often used to model stochastic processes. QRNGs provide a superior alternative to PRNGs for such applications.\n",
    " - Gambling and Lotteries: Since QRNGs provide verifiable randomness, they can be used in applications like lotteries or online gambling to ensure fairness."
   ]
  },
  {
   "cell_type": "markdown",
   "metadata": {},
   "source": [
    "### Implementation"
   ]
  },
  {
   "cell_type": "markdown",
   "metadata": {},
   "source": [
    "Here is the implementation of the Quantum Random Number Generator (QRNG) using Qiskit. This code will generate a sequence of random bits using the quantum principles we discussed earlier:"
   ]
  },
  {
   "cell_type": "code",
   "execution_count": 28,
   "metadata": {},
   "outputs": [],
   "source": [
    "# Import necessary Qiskit modules\n",
    "from qiskit import QuantumCircuit\n",
    "from qiskit_aer import AerSimulator\n",
    "from qiskit.compiler import transpile\n",
    "\n",
    "# Function to generate random bits using quantum mechanics\n",
    "def generate_random_bits_quantum(num_bits):\n",
    "    # Initialize the quantum circuit with 1 qubit and 1 classical bit\n",
    "    qc = QuantumCircuit(1, 1)  # 1 qubit, 1 classical bit\n",
    "\n",
    "    # Prepare the Aer simulator\n",
    "    simulator = AerSimulator()\n",
    "\n",
    "    # List to store the random bits\n",
    "    random_bits = []\n",
    "    \n",
    "    for _ in range(num_bits):\n",
    "        # Step 1: Apply Hadamard gate to create superposition\n",
    "        qc.h(0)\n",
    "        \n",
    "        # Step 2: Measure the qubit\n",
    "        qc.measure(0, 0)\n",
    "        \n",
    "        # Transpile the circuit to prepare for execution\n",
    "        compiled_circuit = transpile(qc, simulator)\n",
    "        \n",
    "        # Step 3: Run the circuit on the simulator\n",
    "        result = simulator.run(compiled_circuit, shots=1).result()\n",
    "        \n",
    "        # Step 4: Get the measurement result (either '0' or '1')\n",
    "        counts = result.get_counts(compiled_circuit)\n",
    "        measured_bit = int(list(counts.keys())[0])  # Extract the measured bit as an integer\n",
    "        \n",
    "        # Append the random bit to the list\n",
    "        random_bits.append(measured_bit)\n",
    "        \n",
    "        # Reset the quantum circuit for the next iteration\n",
    "        qc.reset(0)\n",
    "\n",
    "    return random_bits\n"
   ]
  },
  {
   "cell_type": "code",
   "execution_count": 20,
   "metadata": {},
   "outputs": [
    {
     "name": "stdout",
     "output_type": "stream",
     "text": [
      "Random bits generated:  [0, 1, 0, 0, 0, 1, 1, 1, 1, 0, 1, 0, 1, 0, 0, 0, 1, 1, 0, 0, 1, 0, 0, 1, 1, 0, 1, 0, 0, 1, 0, 1, 0, 1, 1, 1, 0, 1, 1, 0, 0, 1, 1, 0, 1, 0, 1, 1, 1, 1, 1, 1, 1, 1, 1, 0, 1, 0, 1, 0, 1, 1, 1, 1, 1, 1, 0, 0, 0, 1, 1, 0, 0, 0, 1, 1, 0, 0, 1, 1, 0, 1, 0, 1, 0, 1, 1, 1, 0, 1, 1, 1, 1, 1, 1, 0, 1, 1, 1, 0]\n"
     ]
    }
   ],
   "source": [
    "# Example usage:\n",
    "num_bits = 100  # Specify the number of random bits to generate\n",
    "random_bits = generate_random_bits(num_bits)\n",
    "print(\"Random bits generated: \", random_bits)"
   ]
  },
  {
   "cell_type": "markdown",
   "metadata": {},
   "source": [
    "### Statistical Analysis"
   ]
  },
  {
   "cell_type": "markdown",
   "metadata": {},
   "source": [
    "Let's perform statistical analysis on the quantum random numbers to verify their randomness. We'll implement some simple statistical tests commonly used to analyze random bit sequences, such as:\n",
    "\n",
    " - Frequency Test (Proportion of 0s and 1s): This test checks whether the number of 0s and 1s in the random sequence is approximately equal, as expected for a fair random number generator.\n",
    "\n",
    " - Runs Test (Sequence of Consecutive Bits): This test checks whether the number of runs (sequences of consecutive 0s or consecutive 1s) is consistent with what is expected for a random sequence. If there are too many or too few runs, it might indicate the numbers aren't truly random.\n",
    "\n",
    " - Plotting the Distribution: We'll use a histogram to visually inspect the distribution of 0s and 1s."
   ]
  },
  {
   "cell_type": "code",
   "execution_count": 25,
   "metadata": {},
   "outputs": [],
   "source": [
    "import numpy as np\n",
    "import matplotlib.pyplot as plt\n",
    "\n",
    "def frequency_test(random_bits):\n",
    "    num_zeros = random_bits.count(0)\n",
    "    num_ones = random_bits.count(1)\n",
    "    total_bits = len(random_bits)\n",
    "\n",
    "    print(\"Frequency Test:\")\n",
    "    print(f\"Number of 0s: {num_zeros}\")\n",
    "    print(f\"Number of 1s: {num_ones}\")\n",
    "    print(f\"Proportion of 0s: {num_zeros / total_bits:.2f}\")\n",
    "    print(f\"Proportion of 1s: {num_ones / total_bits:.2f}\")\n",
    "\n",
    "# Function for Runs Test (Checks for runs of consecutive bits)\n",
    "def runs_test(random_bits):\n",
    "    runs = 1\n",
    "    for i in range(1, len(random_bits)):\n",
    "        if random_bits[i] != random_bits[i - 1]:\n",
    "            runs += 1\n",
    "\n",
    "    expected_runs = ((2 * len(random_bits)) - 1) / 3\n",
    "    print(f\"Runs Test:\")\n",
    "    print(f\"Number of runs: {runs}\")\n",
    "    print(f\"Expected number of runs: {expected_runs:.2f}\")\n",
    "    print(f\"Difference from expected: {abs(runs - expected_runs):.2f}\")\n",
    "\n",
    "# Function to plot the distribution of 0s and 1s\n",
    "def plot_random_bit_distribution(random_bits):\n",
    "    plt.hist(random_bits, bins=2, edgecolor='black')\n",
    "    plt.xticks([0, 1])\n",
    "    plt.xlabel('Bit Value')\n",
    "    plt.ylabel('Frequency')\n",
    "    plt.title('Random Bit Distribution')\n",
    "    plt.show()"
   ]
  },
  {
   "cell_type": "code",
   "execution_count": 26,
   "metadata": {},
   "outputs": [
    {
     "name": "stdout",
     "output_type": "stream",
     "text": [
      "Frequency Test:\n",
      "Number of 0s: 40\n",
      "Number of 1s: 60\n",
      "Proportion of 0s: 0.40\n",
      "Proportion of 1s: 0.60\n",
      "Runs Test:\n",
      "Number of runs: 53\n",
      "Expected number of runs: 66.33\n",
      "Difference from expected: 13.33\n"
     ]
    },
    {
     "data": {
      "image/png": "[encoded data removed]",
      "text/plain": [
       "<Figure size 640x480 with 1 Axes>"
      ]
     },
     "metadata": {},
     "output_type": "display_data"
    }
   ],
   "source": [
    "# Run the statistical tests\n",
    "frequency_test(random_bits)\n",
    "runs_test(random_bits)\n",
    "\n",
    "# Plot the distribution of 0s and 1s\n",
    "plot_random_bit_distribution(random_bits)"
   ]
  },
  {
   "cell_type": "markdown",
   "metadata": {},
   "source": [
    "### Comparison with classical methods"
   ]
  },
  {
   "cell_type": "markdown",
   "metadata": {},
   "source": [
    "Let's compare a classical pseudo-random number generator (PRNG) with the quantum random number generator (QRNG). "
   ]
  },
  {
   "cell_type": "code",
   "execution_count": 30,
   "metadata": {},
   "outputs": [],
   "source": [
    "import random\n",
    "import matplotlib.pyplot as plt\n",
    "\n",
    "# Classical Random Number Generator (PRNG)\n",
    "def generate_random_bits_classical(num_bits):\n",
    "    random_bits = [random.randint(0, 1) for _ in range(num_bits)]\n",
    "    return random_bits\n",
    "\n",
    "# Frequency Test (Proportion of 0s and 1s)\n",
    "def frequency_test(random_bits, generator_name):\n",
    "    num_zeros = random_bits.count(0)\n",
    "    num_ones = random_bits.count(1)\n",
    "    total_bits = len(random_bits)\n",
    "    print(f\"Frequency Test for {generator_name}:\")\n",
    "    print(f\"Number of 0s: {num_zeros}\")\n",
    "    print(f\"Number of 1s: {num_ones}\")\n",
    "    print(f\"Proportion of 0s: {num_zeros / total_bits:.2f}\")\n",
    "    print(f\"Proportion of 1s: {num_ones / total_bits:.2f}\")\n",
    "\n",
    "# Runs Test (Checks for consecutive 0s and 1s)\n",
    "def runs_test(random_bits, generator_name):\n",
    "    runs = 1\n",
    "    for i in range(1, len(random_bits)):\n",
    "        if random_bits[i] != random_bits[i - 1]:\n",
    "            runs += 1\n",
    "    expected_runs = ((2 * len(random_bits)) - 1) / 3\n",
    "    print(f\"Runs Test for {generator_name}:\")\n",
    "    print(f\"Number of runs: {runs}\")\n",
    "    print(f\"Expected number of runs: {expected_runs:.2f}\")\n",
    "    print(f\"Difference from expected: {abs(runs - expected_runs):.2f}\")\n",
    "\n",
    "# Plotting the Distribution of Random Bits\n",
    "def plot_random_bit_distribution(random_bits_classical, random_bits_quantum):\n",
    "    fig, ax = plt.subplots(1, 2, figsize=(12, 6))\n",
    "    \n",
    "    ax[0].hist(random_bits_classical, bins=2, edgecolor='black')\n",
    "    ax[0].set_title('Classical PRNG Distribution')\n",
    "    ax[0].set_xticks([0, 1])\n",
    "    ax[0].set_xlabel('Bit Value')\n",
    "    ax[0].set_ylabel('Frequency')\n",
    "\n",
    "    ax[1].hist(random_bits_quantum, bins=2, edgecolor='black')\n",
    "    ax[1].set_title('Quantum RNG Distribution')\n",
    "    ax[1].set_xticks([0, 1])\n",
    "    ax[1].set_xlabel('Bit Value')\n",
    "    ax[1].set_ylabel('Frequency')\n",
    "\n",
    "    plt.show()"
   ]
  },
  {
   "cell_type": "code",
   "execution_count": 34,
   "metadata": {},
   "outputs": [
    {
     "name": "stdout",
     "output_type": "stream",
     "text": [
      "Frequency Test for Classical PRNG:\n",
      "Number of 0s: 48\n",
      "Number of 1s: 52\n",
      "Proportion of 0s: 0.48\n",
      "Proportion of 1s: 0.52\n",
      "Frequency Test for Quantum RNG:\n",
      "Number of 0s: 46\n",
      "Number of 1s: 54\n",
      "Proportion of 0s: 0.46\n",
      "Proportion of 1s: 0.54\n",
      "Runs Test for Classical PRNG:\n",
      "Number of runs: 58\n",
      "Expected number of runs: 66.33\n",
      "Difference from expected: 8.33\n",
      "Runs Test for Quantum RNG:\n",
      "Number of runs: 57\n",
      "Expected number of runs: 66.33\n",
      "Difference from expected: 9.33\n"
     ]
    },
    {
     "data": {
      "image/png": "[encoded data removed]",
      "text/plain": [
       "<Figure size 1200x600 with 2 Axes>"
      ]
     },
     "metadata": {},
     "output_type": "display_data"
    }
   ],
   "source": [
    "# Number of bits to generate\n",
    "num_bits = 100  # You can increase this for larger comparisons\n",
    "\n",
    "# Generate random bits using Classical PRNG and Quantum RNG\n",
    "random_bits_classical = generate_random_bits_classical(num_bits)\n",
    "random_bits_quantum = generate_random_bits_quantum(num_bits)\n",
    "\n",
    "# Run Frequency Test for both\n",
    "frequency_test(random_bits_classical, \"Classical PRNG\")\n",
    "frequency_test(random_bits_quantum, \"Quantum RNG\")\n",
    "\n",
    "# Run Runs Test for both\n",
    "runs_test(random_bits_classical, \"Classical PRNG\")\n",
    "runs_test(random_bits_quantum, \"Quantum RNG\")\n",
    "\n",
    "# Plot the distribution of bits\n",
    "plot_random_bit_distribution(random_bits_classical, random_bits_quantum)\n"
   ]
  }
 ],
 "metadata": {
  "kernelspec": {
   "display_name": "base",
   "language": "python",
   "name": "python3"
  },
  "language_info": {
   "codemirror_mode": {
    "name": "ipython",
    "version": 3
   },
   "file_extension": ".py",
   "mimetype": "text/x-python",
   "name": "python",
   "nbconvert_exporter": "python",
   "pygments_lexer": "ipython3",
   "version": "3.12.4"
  }
 },
 "nbformat": 4,
 "nbformat_minor": 2
}
